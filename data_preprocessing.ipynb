{
 "cells": [
  {
   "attachments": {},
   "cell_type": "markdown",
   "metadata": {},
   "source": [
    "# DATA PRE-PrOCESSING\n",
    "\n",
    "This notebook handles the download and pre-rpocessing of the MovieLens 20M Dataset to be used in this TFM."
   ]
  },
  {
   "cell_type": "code",
   "execution_count": 1,
   "metadata": {},
   "outputs": [],
   "source": [
    "#Necessary imports\n",
    "\n",
    "import numpy as np\n",
    "import pandas as pd\n",
    "import matplotlib.pyplot as plt\n",
    "import seaborn as sns\n",
    "\n",
    "from zipfile import ZipFile\n",
    "import io\n",
    "from urllib.request import urlopen\n"
   ]
  },
  {
   "attachments": {},
   "cell_type": "markdown",
   "metadata": {},
   "source": [
    "## Download the Dataset\n",
    "\n",
    "Dataset is downloaded in the memory and loaded by directly as dataframes.\n",
    "\n",
    "In the source data there are 6 CSV files:\n",
    "1. ratings.csv\n",
    "2. movies.csv\n",
    "3. links.csv\n",
    "4. tags.csv\n",
    "5. genome-scores.csv\n",
    "6. genome-tags.csv\n",
    "\n",
    "For the scope of this TFM, only the ratings.csv, movies.csv and links.csv are used."
   ]
  },
  {
   "cell_type": "code",
   "execution_count": 2,
   "metadata": {},
   "outputs": [
    {
     "data": {
      "text/html": [
       "<div>\n",
       "<style scoped>\n",
       "    .dataframe tbody tr th:only-of-type {\n",
       "        vertical-align: middle;\n",
       "    }\n",
       "\n",
       "    .dataframe tbody tr th {\n",
       "        vertical-align: top;\n",
       "    }\n",
       "\n",
       "    .dataframe thead th {\n",
       "        text-align: right;\n",
       "    }\n",
       "</style>\n",
       "<table border=\"1\" class=\"dataframe\">\n",
       "  <thead>\n",
       "    <tr style=\"text-align: right;\">\n",
       "      <th></th>\n",
       "      <th>userId</th>\n",
       "      <th>movieId</th>\n",
       "      <th>rating</th>\n",
       "      <th>timestamp</th>\n",
       "    </tr>\n",
       "  </thead>\n",
       "  <tbody>\n",
       "    <tr>\n",
       "      <th>0</th>\n",
       "      <td>1</td>\n",
       "      <td>2</td>\n",
       "      <td>3.5</td>\n",
       "      <td>1112486027</td>\n",
       "    </tr>\n",
       "    <tr>\n",
       "      <th>1</th>\n",
       "      <td>1</td>\n",
       "      <td>29</td>\n",
       "      <td>3.5</td>\n",
       "      <td>1112484676</td>\n",
       "    </tr>\n",
       "    <tr>\n",
       "      <th>2</th>\n",
       "      <td>1</td>\n",
       "      <td>32</td>\n",
       "      <td>3.5</td>\n",
       "      <td>1112484819</td>\n",
       "    </tr>\n",
       "    <tr>\n",
       "      <th>3</th>\n",
       "      <td>1</td>\n",
       "      <td>47</td>\n",
       "      <td>3.5</td>\n",
       "      <td>1112484727</td>\n",
       "    </tr>\n",
       "    <tr>\n",
       "      <th>4</th>\n",
       "      <td>1</td>\n",
       "      <td>50</td>\n",
       "      <td>3.5</td>\n",
       "      <td>1112484580</td>\n",
       "    </tr>\n",
       "  </tbody>\n",
       "</table>\n",
       "</div>"
      ],
      "text/plain": [
       "   userId  movieId  rating   timestamp\n",
       "0       1        2     3.5  1112486027\n",
       "1       1       29     3.5  1112484676\n",
       "2       1       32     3.5  1112484819\n",
       "3       1       47     3.5  1112484727\n",
       "4       1       50     3.5  1112484580"
      ]
     },
     "execution_count": 2,
     "metadata": {},
     "output_type": "execute_result"
    }
   ],
   "source": [
    "#Link of the source data: MovieLens 20M Dataset\n",
    "movielens_link = \"https://files.grouplens.org/datasets/movielens/ml-20m.zip\"\n",
    "\n",
    "\n",
    "#Download and load the dataset\n",
    "r = urlopen(movielens_link).read()\n",
    "file = ZipFile(io.BytesIO(r))\n",
    "df_ratings = pd.read_csv(file.open('ml-20m/ratings.csv'), encoding='latin1')\n",
    "df_movies = pd.read_csv(file.open('ml-20m/movies.csv'), encoding='latin1')\n",
    "df_links = pd.read_csv(file.open('ml-20m/links.csv'), encoding='latin1')\n",
    "\n",
    "df_ratings.head()"
   ]
  },
  {
   "attachments": {},
   "cell_type": "markdown",
   "metadata": {},
   "source": [
    "## Explore the Data\n",
    "\n",
    "ratings.csv file contains the data required to build the recommendation engine. Due to the nature of the data which is user ratings for movies, the data is very sparse which can be seen in the excerpt of the data shaped as a user-item matrix below."
   ]
  },
  {
   "cell_type": "code",
   "execution_count": 14,
   "metadata": {},
   "outputs": [
    {
     "data": {
      "text/html": [
       "<div>\n",
       "<style scoped>\n",
       "    .dataframe tbody tr th:only-of-type {\n",
       "        vertical-align: middle;\n",
       "    }\n",
       "\n",
       "    .dataframe tbody tr th {\n",
       "        vertical-align: top;\n",
       "    }\n",
       "\n",
       "    .dataframe thead th {\n",
       "        text-align: right;\n",
       "    }\n",
       "</style>\n",
       "<table border=\"1\" class=\"dataframe\">\n",
       "  <thead>\n",
       "    <tr style=\"text-align: right;\">\n",
       "      <th>movieId</th>\n",
       "      <th>1</th>\n",
       "      <th>2</th>\n",
       "      <th>3</th>\n",
       "      <th>6</th>\n",
       "      <th>7</th>\n",
       "      <th>10</th>\n",
       "      <th>11</th>\n",
       "      <th>15</th>\n",
       "      <th>16</th>\n",
       "      <th>17</th>\n",
       "      <th>19</th>\n",
       "    </tr>\n",
       "    <tr>\n",
       "      <th>userId</th>\n",
       "      <th></th>\n",
       "      <th></th>\n",
       "      <th></th>\n",
       "      <th></th>\n",
       "      <th></th>\n",
       "      <th></th>\n",
       "      <th></th>\n",
       "      <th></th>\n",
       "      <th></th>\n",
       "      <th></th>\n",
       "      <th></th>\n",
       "    </tr>\n",
       "  </thead>\n",
       "  <tbody>\n",
       "    <tr>\n",
       "      <th>1</th>\n",
       "      <td>NaN</td>\n",
       "      <td>3.5</td>\n",
       "      <td>NaN</td>\n",
       "      <td>NaN</td>\n",
       "      <td>NaN</td>\n",
       "      <td>NaN</td>\n",
       "      <td>NaN</td>\n",
       "      <td>NaN</td>\n",
       "      <td>NaN</td>\n",
       "      <td>NaN</td>\n",
       "      <td>NaN</td>\n",
       "    </tr>\n",
       "    <tr>\n",
       "      <th>2</th>\n",
       "      <td>NaN</td>\n",
       "      <td>NaN</td>\n",
       "      <td>4.0</td>\n",
       "      <td>NaN</td>\n",
       "      <td>NaN</td>\n",
       "      <td>NaN</td>\n",
       "      <td>NaN</td>\n",
       "      <td>NaN</td>\n",
       "      <td>NaN</td>\n",
       "      <td>NaN</td>\n",
       "      <td>NaN</td>\n",
       "    </tr>\n",
       "    <tr>\n",
       "      <th>3</th>\n",
       "      <td>4.0</td>\n",
       "      <td>NaN</td>\n",
       "      <td>NaN</td>\n",
       "      <td>NaN</td>\n",
       "      <td>NaN</td>\n",
       "      <td>NaN</td>\n",
       "      <td>NaN</td>\n",
       "      <td>NaN</td>\n",
       "      <td>NaN</td>\n",
       "      <td>NaN</td>\n",
       "      <td>NaN</td>\n",
       "    </tr>\n",
       "    <tr>\n",
       "      <th>4</th>\n",
       "      <td>NaN</td>\n",
       "      <td>NaN</td>\n",
       "      <td>NaN</td>\n",
       "      <td>3.0</td>\n",
       "      <td>NaN</td>\n",
       "      <td>4.0</td>\n",
       "      <td>NaN</td>\n",
       "      <td>NaN</td>\n",
       "      <td>NaN</td>\n",
       "      <td>NaN</td>\n",
       "      <td>3.0</td>\n",
       "    </tr>\n",
       "    <tr>\n",
       "      <th>5</th>\n",
       "      <td>NaN</td>\n",
       "      <td>3.0</td>\n",
       "      <td>NaN</td>\n",
       "      <td>NaN</td>\n",
       "      <td>NaN</td>\n",
       "      <td>NaN</td>\n",
       "      <td>5.0</td>\n",
       "      <td>NaN</td>\n",
       "      <td>NaN</td>\n",
       "      <td>3.0</td>\n",
       "      <td>NaN</td>\n",
       "    </tr>\n",
       "    <tr>\n",
       "      <th>6</th>\n",
       "      <td>5.0</td>\n",
       "      <td>NaN</td>\n",
       "      <td>3.0</td>\n",
       "      <td>NaN</td>\n",
       "      <td>5.0</td>\n",
       "      <td>NaN</td>\n",
       "      <td>NaN</td>\n",
       "      <td>NaN</td>\n",
       "      <td>NaN</td>\n",
       "      <td>5.0</td>\n",
       "      <td>NaN</td>\n",
       "    </tr>\n",
       "    <tr>\n",
       "      <th>7</th>\n",
       "      <td>NaN</td>\n",
       "      <td>NaN</td>\n",
       "      <td>3.0</td>\n",
       "      <td>NaN</td>\n",
       "      <td>3.0</td>\n",
       "      <td>NaN</td>\n",
       "      <td>4.0</td>\n",
       "      <td>2.0</td>\n",
       "      <td>3.0</td>\n",
       "      <td>2.0</td>\n",
       "      <td>NaN</td>\n",
       "    </tr>\n",
       "    <tr>\n",
       "      <th>8</th>\n",
       "      <td>4.0</td>\n",
       "      <td>NaN</td>\n",
       "      <td>5.0</td>\n",
       "      <td>3.0</td>\n",
       "      <td>NaN</td>\n",
       "      <td>4.0</td>\n",
       "      <td>NaN</td>\n",
       "      <td>NaN</td>\n",
       "      <td>NaN</td>\n",
       "      <td>NaN</td>\n",
       "      <td>1.0</td>\n",
       "    </tr>\n",
       "    <tr>\n",
       "      <th>9</th>\n",
       "      <td>NaN</td>\n",
       "      <td>NaN</td>\n",
       "      <td>NaN</td>\n",
       "      <td>NaN</td>\n",
       "      <td>NaN</td>\n",
       "      <td>NaN</td>\n",
       "      <td>NaN</td>\n",
       "      <td>NaN</td>\n",
       "      <td>NaN</td>\n",
       "      <td>NaN</td>\n",
       "      <td>NaN</td>\n",
       "    </tr>\n",
       "    <tr>\n",
       "      <th>10</th>\n",
       "      <td>4.0</td>\n",
       "      <td>NaN</td>\n",
       "      <td>NaN</td>\n",
       "      <td>NaN</td>\n",
       "      <td>NaN</td>\n",
       "      <td>NaN</td>\n",
       "      <td>4.0</td>\n",
       "      <td>NaN</td>\n",
       "      <td>NaN</td>\n",
       "      <td>NaN</td>\n",
       "      <td>NaN</td>\n",
       "    </tr>\n",
       "  </tbody>\n",
       "</table>\n",
       "</div>"
      ],
      "text/plain": [
       "movieId   1    2    3    6    7    10   11   15   16   17   19\n",
       "userId                                                        \n",
       "1        NaN  3.5  NaN  NaN  NaN  NaN  NaN  NaN  NaN  NaN  NaN\n",
       "2        NaN  NaN  4.0  NaN  NaN  NaN  NaN  NaN  NaN  NaN  NaN\n",
       "3        4.0  NaN  NaN  NaN  NaN  NaN  NaN  NaN  NaN  NaN  NaN\n",
       "4        NaN  NaN  NaN  3.0  NaN  4.0  NaN  NaN  NaN  NaN  3.0\n",
       "5        NaN  3.0  NaN  NaN  NaN  NaN  5.0  NaN  NaN  3.0  NaN\n",
       "6        5.0  NaN  3.0  NaN  5.0  NaN  NaN  NaN  NaN  5.0  NaN\n",
       "7        NaN  NaN  3.0  NaN  3.0  NaN  4.0  2.0  3.0  2.0  NaN\n",
       "8        4.0  NaN  5.0  3.0  NaN  4.0  NaN  NaN  NaN  NaN  1.0\n",
       "9        NaN  NaN  NaN  NaN  NaN  NaN  NaN  NaN  NaN  NaN  NaN\n",
       "10       4.0  NaN  NaN  NaN  NaN  NaN  4.0  NaN  NaN  NaN  NaN"
      ]
     },
     "execution_count": 14,
     "metadata": {},
     "output_type": "execute_result"
    }
   ],
   "source": [
    "#Format the dataframe in user-item matrix format to demonstrate the sparse matrix\n",
    "\n",
    "sparse_matrix_demo = df_ratings.loc[:1000].pivot(index=\"userId\", columns=\"movieId\", values=\"rating\").loc[:10,:20]\n",
    "#sparse_matrix_demo.to_csv(\"sparse_demo.csv\")\n",
    "sparse_matrix_demo"
   ]
  },
  {
   "attachments": {},
   "cell_type": "markdown",
   "metadata": {},
   "source": [
    "An overview of the distribution of ratings can be seen below."
   ]
  },
  {
   "cell_type": "code",
   "execution_count": 15,
   "metadata": {},
   "outputs": [
    {
     "data": {
      "image/png": "[encoded data removed]",
      "text/plain": [
       "<Figure size 1000x600 with 1 Axes>"
      ]
     },
     "metadata": {},
     "output_type": "display_data"
    }
   ],
   "source": [
    "ratings_value_counts = df_ratings['rating'].value_counts().sort_index(ascending=True)\n",
    "\n",
    "sns.set_style(\"darkgrid\")\n",
    "\n",
    "plt.figure(figsize=(10,6), dpi=100)\n",
    "axis = ratings_value_counts.plot.bar()\n",
    "axis.set_xlabel(\"Ratings\", color=\"black\")\n",
    "axis.set_ylabel(\"Number of ratings\", color=\"black\")\n",
    "axis.set_title(\"Distribution of ratings\", color=\"black\");\n",
    "\n",
    "fig = axis.get_figure()\n",
    "fig.patch.set_facecolor('white')\n",
    "#fig.savefig('figures/Distribution of ratings.png',bbox_inches='tight', dpi=100)"
   ]
  },
  {
   "attachments": {},
   "cell_type": "markdown",
   "metadata": {},
   "source": [
    "### Downsize the data\n",
    "\n",
    "With exploring certain conditions for users and items (movies), the data can be downsized with less sparsity. This will help with the training processes in the experimentation and reduce the noise."
   ]
  },
  {
   "attachments": {},
   "cell_type": "markdown",
   "metadata": {},
   "source": [
    "First, the number of ratings per movie has been investigated to remove less rated movies."
   ]
  },
  {
   "cell_type": "code",
   "execution_count": 16,
   "metadata": {},
   "outputs": [
    {
     "data": {
      "image/png": "[encoded data removed]",
      "text/plain": [
       "<Figure size 1000x600 with 1 Axes>"
      ]
     },
     "metadata": {},
     "output_type": "display_data"
    }
   ],
   "source": [
    "movie_exp_df = df_ratings[['movieId','userId']].groupby(['movieId']).agg(['count']).sort_values(('userId','count'),ascending=False)\n",
    " \n",
    "plt.figure(figsize=(10,6), dpi=100) \n",
    "sns.set_style(\"darkgrid\")\n",
    "\n",
    "sns.lineplot(data=movie_exp_df[('userId', 'count')].values)\n",
    "plt.title(\"Rating frequency of movies\", color=\"black\")\n",
    "plt.xlabel(\"Movies\", color=\"black\")\n",
    "plt.ylabel(\"Number of ratings\", color=\"black\");\n",
    "\n",
    "#plt.savefig('figures/Rating Freq Movies.png',bbox_inches='tight', dpi=100)"
   ]
  },
  {
   "attachments": {},
   "cell_type": "markdown",
   "metadata": {},
   "source": [
    "From the figure above, it can be estimated that a big percentage of the movies have approximately less than 500 reviews. "
   ]
  },
  {
   "cell_type": "code",
   "execution_count": 17,
   "metadata": {},
   "outputs": [
    {
     "name": "stdout",
     "output_type": "stream",
     "text": [
      "Number of movies in the original dataset: 26744\n",
      "Number of movies which have more than 500 ratings: 4489\n",
      "Number of movies which have less than 500 ratings: 22255\n",
      "Percentage of the movies that will be removed from the dataset: 83%\n"
     ]
    }
   ],
   "source": [
    "min_rating_count = 500\n",
    "\n",
    "number_movies_original= len(df_ratings[\"movieId\"].drop_duplicates())\n",
    "print(f\"Number of movies in the original dataset: {number_movies_original}\")\n",
    "\n",
    "number_movies_new = len(movie_exp_df[movie_exp_df[('userId', 'count')]>=min_rating_count])\n",
    "print(f\"Number of movies which have more than {min_rating_count} ratings: {number_movies_new}\")\n",
    "\n",
    "number_movies_to_remove = number_movies_original-number_movies_new\n",
    "print(f\"Number of movies which have less than {min_rating_count} ratings: {number_movies_to_remove}\")\n",
    "\n",
    "remove_percentage = (number_movies_to_remove/number_movies_original)*100\n",
    "print(f\"Percentage of the movies that will be removed from the dataset: {round(remove_percentage)}%\")"
   ]
  },
  {
   "cell_type": "code",
   "execution_count": 18,
   "metadata": {},
   "outputs": [
    {
     "data": {
      "image/png": "[encoded data removed]",
      "text/plain": [
       "<Figure size 1000x600 with 1 Axes>"
      ]
     },
     "metadata": {},
     "output_type": "display_data"
    }
   ],
   "source": [
    "plt.figure(figsize=(10,6), dpi=100) \n",
    "sns.set_style(\"darkgrid\")\n",
    "\n",
    "sns.lineplot(data=movie_exp_df[('userId', 'count')].values)\n",
    "plt.title(\"Rating frequency of movies\", color=\"black\")\n",
    "plt.xlabel(\"Movies\", color=\"black\")\n",
    "plt.ylabel(\"Number of ratings\", color=\"black\");\n",
    "\n",
    "plt.axhline(y = 500, color = 'r', linestyle = '--');\n",
    "\n",
    "#plt.savefig('figures/Rating Freq Movies - remove.png',bbox_inches='tight', dpi=100)"
   ]
  },
  {
   "cell_type": "code",
   "execution_count": 19,
   "metadata": {},
   "outputs": [],
   "source": [
    "#Remove the movies that has less number of ratings than 500.\n",
    "\n",
    "most_ranked = movie_exp_df[movie_exp_df[('userId', 'count')]>=min_rating_count]\n",
    "\n",
    "df_most_ranked_movies = df_ratings[df_ratings['movieId'].isin(list(most_ranked.index))]"
   ]
  },
  {
   "attachments": {},
   "cell_type": "markdown",
   "metadata": {},
   "source": [
    "Second, a similar approach will be conducted for users to be excluded if the user has less than a certain number of ratings done."
   ]
  },
  {
   "cell_type": "code",
   "execution_count": 20,
   "metadata": {},
   "outputs": [
    {
     "data": {
      "image/png": "[encoded data removed]",
      "text/plain": [
       "<Figure size 1000x600 with 1 Axes>"
      ]
     },
     "metadata": {},
     "output_type": "display_data"
    }
   ],
   "source": [
    "user_exp_df = df_most_ranked_movies[['movieId','userId']].groupby(['userId']).agg(['count']).sort_values(('movieId','count'),ascending=False)\n",
    "\n",
    "plt.figure(figsize=(10,6), dpi=100) \n",
    "sns.set_style(\"darkgrid\")\n",
    "\n",
    "sns.lineplot(data=user_exp_df[('movieId', 'count')].values)\n",
    "plt.title(\"Rating frequency of users\", color=\"black\")\n",
    "plt.xlabel(\"Users\", color=\"black\")\n",
    "plt.ylabel(\"Number of ratings\", color=\"black\");\n",
    "\n",
    "#plt.savefig('figures/Rating Freq Users.png',bbox_inches='tight', dpi=100)"
   ]
  },
  {
   "attachments": {},
   "cell_type": "markdown",
   "metadata": {},
   "source": [
    "From the figure above, it can be estimated that a big percentage of the users have ranked approximately less than 200 movies. "
   ]
  },
  {
   "cell_type": "code",
   "execution_count": 21,
   "metadata": {},
   "outputs": [
    {
     "name": "stdout",
     "output_type": "stream",
     "text": [
      "Number of users in the original dataset: 138493\n",
      "Number of users which have done more than 200 ratings: 25548\n",
      "Number of users which have done less than 200 ratings: 112945\n",
      "Percentage of the users that will be removed from the dataset: 82%\n"
     ]
    }
   ],
   "source": [
    "min_rated_count = 200\n",
    "\n",
    "number_users_original= len(df_ratings[\"userId\"].drop_duplicates())\n",
    "print(f\"Number of users in the original dataset: {number_users_original}\")\n",
    "\n",
    "\n",
    "number_users_new = len(user_exp_df[user_exp_df[('movieId', 'count')]>=min_rated_count])\n",
    "print(f\"Number of users which have done more than {min_rated_count} ratings: {number_users_new}\")\n",
    "\n",
    "number_users_to_remove = number_users_original-number_users_new\n",
    "print(f\"Number of users which have done less than {min_rated_count} ratings: {number_users_to_remove}\")\n",
    "\n",
    "remove_percentage = (number_users_to_remove/number_users_original)*100\n",
    "print(f\"Percentage of the users that will be removed from the dataset: {round(remove_percentage)}%\")"
   ]
  },
  {
   "cell_type": "code",
   "execution_count": 22,
   "metadata": {},
   "outputs": [
    {
     "data": {
      "image/png": "[encoded data removed]",
      "text/plain": [
       "<Figure size 1000x600 with 1 Axes>"
      ]
     },
     "metadata": {},
     "output_type": "display_data"
    }
   ],
   "source": [
    "plt.figure(figsize=(10,6), dpi=100) \n",
    "sns.set_style(\"darkgrid\")\n",
    "\n",
    "sns.lineplot(data=user_exp_df[('movieId', 'count')].values)\n",
    "plt.title(\"Rating frequency of users\", color=\"black\")\n",
    "plt.xlabel(\"Users\", color=\"black\")\n",
    "plt.ylabel(\"Number of ratings\", color=\"black\");\n",
    "\n",
    "plt.axhline(y = 200, color = 'r', linestyle = '--');\n",
    "\n",
    "#plt.savefig('figures/Rating Freq User - remove.png',bbox_inches='tight', dpi=100)"
   ]
  },
  {
   "cell_type": "code",
   "execution_count": 23,
   "metadata": {},
   "outputs": [],
   "source": [
    "#Remove the users that has ranked less than 200 movies.\n",
    "\n",
    "most_ranked_users = user_exp_df[user_exp_df[('movieId', 'count')]>=min_rated_count]\n",
    "\n",
    "downsized_df = df_most_ranked_movies[df_most_ranked_movies['userId'].isin(list(most_ranked_users.index))]"
   ]
  },
  {
   "attachments": {},
   "cell_type": "markdown",
   "metadata": {},
   "source": [
    "Now that the movies and users with less rating frequency than the determined thresholds are removed, the remaining data has the following datapoints (ratings) compared with the source data."
   ]
  },
  {
   "cell_type": "code",
   "execution_count": 31,
   "metadata": {},
   "outputs": [
    {
     "name": "stdout",
     "output_type": "stream",
     "text": [
      "Number of ratings in the original dataset: 20000263\n",
      "Number of ratings in the downsized dataset: 11155339\n",
      "Number of ratings removed: 8844924\n",
      "Percentage of ratings removed: 44%\n"
     ]
    }
   ],
   "source": [
    "num_ranks = len(df_ratings)\n",
    "new_num_ranks = len(downsized_df)\n",
    "remove_percentage_ranks = ((num_ranks-new_num_ranks)/num_ranks)*100\n",
    "\n",
    "print(f\"Number of ratings in the original dataset: {num_ranks}\")\n",
    "print(f\"Number of ratings in the downsized dataset: {new_num_ranks}\")\n",
    "print(f\"Number of ratings removed: {num_ranks-new_num_ranks}\")\n",
    "print(f\"Percentage of ratings removed: {round(remove_percentage_ranks)}%\")\n"
   ]
  },
  {
   "attachments": {},
   "cell_type": "markdown",
   "metadata": {},
   "source": [
    "## Merge Files\n",
    "\n",
    "While for the recemmender engine it is sufficient to use the data available in ratings.csv file, in the future steps the information from movies.csv and links.csv will be utilized. Therefore, a master dataframe is generated here for consistency reasons."
   ]
  },
  {
   "cell_type": "code",
   "execution_count": 32,
   "metadata": {},
   "outputs": [],
   "source": [
    "df_with_movies = pd.merge(downsized_df, df_movies, how='left', on=\"movieId\")\n",
    "master_df = pd.merge(df_with_movies, df_links, how='left', on=\"movieId\")"
   ]
  },
  {
   "attachments": {},
   "cell_type": "markdown",
   "metadata": {},
   "source": [
    "Because the corresponding information of the IDs from other tables has already been merged, for consistency reasons, the user IDs should be re-assigned. \n",
    "Same is done for movieID as well, but in a dfiferent way because the movie IDs in this dataset are corresponding to the actual IDs in the MovieLens source. Therefore, the original movieIDs are stored in a new column calles \"movielensID\", and the movieId column has been re-assigned with new IDs."
   ]
  },
  {
   "cell_type": "code",
   "execution_count": 33,
   "metadata": {},
   "outputs": [],
   "source": [
    "master_df = master_df.sort_values([\"userId\", \"movieId\"], ascending=True)\n",
    "master_df[\"userId\"] = master_df[\"userId\"].astype('category').cat.codes \n",
    "master_df[\"movielensId\"] = master_df[\"movieId\"]\n",
    "master_df[\"movieId\"] = master_df[\"movieId\"].astype('category').cat.codes"
   ]
  },
  {
   "attachments": {},
   "cell_type": "markdown",
   "metadata": {},
   "source": [
    "\"tmdbId\" column which represents the movie codes for The Movie Database is removed because it is missing the IDs of some movies."
   ]
  },
  {
   "cell_type": "code",
   "execution_count": 34,
   "metadata": {},
   "outputs": [],
   "source": [
    "master_df = master_df.drop(\"tmdbId\", axis=1)"
   ]
  },
  {
   "cell_type": "code",
   "execution_count": 35,
   "metadata": {},
   "outputs": [
    {
     "data": {
      "text/html": [
       "<div>\n",
       "<style scoped>\n",
       "    .dataframe tbody tr th:only-of-type {\n",
       "        vertical-align: middle;\n",
       "    }\n",
       "\n",
       "    .dataframe tbody tr th {\n",
       "        vertical-align: top;\n",
       "    }\n",
       "\n",
       "    .dataframe thead th {\n",
       "        text-align: right;\n",
       "    }\n",
       "</style>\n",
       "<table border=\"1\" class=\"dataframe\">\n",
       "  <thead>\n",
       "    <tr style=\"text-align: right;\">\n",
       "      <th></th>\n",
       "      <th>userId</th>\n",
       "      <th>movieId</th>\n",
       "      <th>rating</th>\n",
       "      <th>timestamp</th>\n",
       "      <th>title</th>\n",
       "      <th>genres</th>\n",
       "      <th>imdbId</th>\n",
       "      <th>movielensId</th>\n",
       "    </tr>\n",
       "  </thead>\n",
       "  <tbody>\n",
       "    <tr>\n",
       "      <th>0</th>\n",
       "      <td>0</td>\n",
       "      <td>2</td>\n",
       "      <td>3.0</td>\n",
       "      <td>1011208463</td>\n",
       "      <td>Grumpier Old Men (1995)</td>\n",
       "      <td>Comedy|Romance</td>\n",
       "      <td>113228</td>\n",
       "      <td>3</td>\n",
       "    </tr>\n",
       "    <tr>\n",
       "      <th>1</th>\n",
       "      <td>0</td>\n",
       "      <td>6</td>\n",
       "      <td>3.0</td>\n",
       "      <td>1011208220</td>\n",
       "      <td>Sabrina (1995)</td>\n",
       "      <td>Comedy|Romance</td>\n",
       "      <td>114319</td>\n",
       "      <td>7</td>\n",
       "    </tr>\n",
       "    <tr>\n",
       "      <th>2</th>\n",
       "      <td>0</td>\n",
       "      <td>10</td>\n",
       "      <td>4.0</td>\n",
       "      <td>1011207889</td>\n",
       "      <td>American President, The (1995)</td>\n",
       "      <td>Comedy|Drama|Romance</td>\n",
       "      <td>112346</td>\n",
       "      <td>11</td>\n",
       "    </tr>\n",
       "    <tr>\n",
       "      <th>3</th>\n",
       "      <td>0</td>\n",
       "      <td>14</td>\n",
       "      <td>2.0</td>\n",
       "      <td>1011208732</td>\n",
       "      <td>Cutthroat Island (1995)</td>\n",
       "      <td>Action|Adventure|Romance</td>\n",
       "      <td>112760</td>\n",
       "      <td>15</td>\n",
       "    </tr>\n",
       "    <tr>\n",
       "      <th>4</th>\n",
       "      <td>0</td>\n",
       "      <td>15</td>\n",
       "      <td>3.0</td>\n",
       "      <td>1011205378</td>\n",
       "      <td>Casino (1995)</td>\n",
       "      <td>Crime|Drama</td>\n",
       "      <td>112641</td>\n",
       "      <td>16</td>\n",
       "    </tr>\n",
       "    <tr>\n",
       "      <th>...</th>\n",
       "      <td>...</td>\n",
       "      <td>...</td>\n",
       "      <td>...</td>\n",
       "      <td>...</td>\n",
       "      <td>...</td>\n",
       "      <td>...</td>\n",
       "      <td>...</td>\n",
       "      <td>...</td>\n",
       "    </tr>\n",
       "    <tr>\n",
       "      <th>11155334</th>\n",
       "      <td>25547</td>\n",
       "      <td>4181</td>\n",
       "      <td>4.5</td>\n",
       "      <td>1260209720</td>\n",
       "      <td>X-Men Origins: Wolverine (2009)</td>\n",
       "      <td>Action|Sci-Fi|Thriller</td>\n",
       "      <td>458525</td>\n",
       "      <td>68319</td>\n",
       "    </tr>\n",
       "    <tr>\n",
       "      <th>11155335</th>\n",
       "      <td>25547</td>\n",
       "      <td>4188</td>\n",
       "      <td>4.5</td>\n",
       "      <td>1258126920</td>\n",
       "      <td>Up (2009)</td>\n",
       "      <td>Adventure|Animation|Children|Drama</td>\n",
       "      <td>1049413</td>\n",
       "      <td>68954</td>\n",
       "    </tr>\n",
       "    <tr>\n",
       "      <th>11155336</th>\n",
       "      <td>25547</td>\n",
       "      <td>4195</td>\n",
       "      <td>4.5</td>\n",
       "      <td>1259865108</td>\n",
       "      <td>Transformers: Revenge of the Fallen (2009)</td>\n",
       "      <td>Action|Adventure|Sci-Fi|IMAX</td>\n",
       "      <td>1055369</td>\n",
       "      <td>69526</td>\n",
       "    </tr>\n",
       "    <tr>\n",
       "      <th>11155337</th>\n",
       "      <td>25547</td>\n",
       "      <td>4198</td>\n",
       "      <td>3.0</td>\n",
       "      <td>1260209457</td>\n",
       "      <td>Ice Age: Dawn of the Dinosaurs (2009)</td>\n",
       "      <td>Action|Adventure|Animation|Children|Comedy|Rom...</td>\n",
       "      <td>1080016</td>\n",
       "      <td>69644</td>\n",
       "    </tr>\n",
       "    <tr>\n",
       "      <th>11155338</th>\n",
       "      <td>25547</td>\n",
       "      <td>4204</td>\n",
       "      <td>5.0</td>\n",
       "      <td>1258126944</td>\n",
       "      <td>District 9 (2009)</td>\n",
       "      <td>Mystery|Sci-Fi|Thriller</td>\n",
       "      <td>1136608</td>\n",
       "      <td>70286</td>\n",
       "    </tr>\n",
       "  </tbody>\n",
       "</table>\n",
       "<p>11155339 rows × 8 columns</p>\n",
       "</div>"
      ],
      "text/plain": [
       "          userId  movieId  rating   timestamp  \\\n",
       "0              0        2     3.0  1011208463   \n",
       "1              0        6     3.0  1011208220   \n",
       "2              0       10     4.0  1011207889   \n",
       "3              0       14     2.0  1011208732   \n",
       "4              0       15     3.0  1011205378   \n",
       "...          ...      ...     ...         ...   \n",
       "11155334   25547     4181     4.5  1260209720   \n",
       "11155335   25547     4188     4.5  1258126920   \n",
       "11155336   25547     4195     4.5  1259865108   \n",
       "11155337   25547     4198     3.0  1260209457   \n",
       "11155338   25547     4204     5.0  1258126944   \n",
       "\n",
       "                                               title  \\\n",
       "0                            Grumpier Old Men (1995)   \n",
       "1                                     Sabrina (1995)   \n",
       "2                     American President, The (1995)   \n",
       "3                            Cutthroat Island (1995)   \n",
       "4                                      Casino (1995)   \n",
       "...                                              ...   \n",
       "11155334             X-Men Origins: Wolverine (2009)   \n",
       "11155335                                   Up (2009)   \n",
       "11155336  Transformers: Revenge of the Fallen (2009)   \n",
       "11155337       Ice Age: Dawn of the Dinosaurs (2009)   \n",
       "11155338                           District 9 (2009)   \n",
       "\n",
       "                                                     genres   imdbId  \\\n",
       "0                                            Comedy|Romance   113228   \n",
       "1                                            Comedy|Romance   114319   \n",
       "2                                      Comedy|Drama|Romance   112346   \n",
       "3                                  Action|Adventure|Romance   112760   \n",
       "4                                               Crime|Drama   112641   \n",
       "...                                                     ...      ...   \n",
       "11155334                             Action|Sci-Fi|Thriller   458525   \n",
       "11155335                 Adventure|Animation|Children|Drama  1049413   \n",
       "11155336                       Action|Adventure|Sci-Fi|IMAX  1055369   \n",
       "11155337  Action|Adventure|Animation|Children|Comedy|Rom...  1080016   \n",
       "11155338                            Mystery|Sci-Fi|Thriller  1136608   \n",
       "\n",
       "          movielensId  \n",
       "0                   3  \n",
       "1                   7  \n",
       "2                  11  \n",
       "3                  15  \n",
       "4                  16  \n",
       "...               ...  \n",
       "11155334        68319  \n",
       "11155335        68954  \n",
       "11155336        69526  \n",
       "11155337        69644  \n",
       "11155338        70286  \n",
       "\n",
       "[11155339 rows x 8 columns]"
      ]
     },
     "execution_count": 35,
     "metadata": {},
     "output_type": "execute_result"
    }
   ],
   "source": [
    "#File is saced as zip since it is space consuming\n",
    "master_df.to_csv(\"data/master_data_with_movie_info.zip\", index=False, compression={'method': 'zip', 'archive_name': 'master_data_with_movie_info.csv'})\n",
    "master_df"
   ]
  },
  {
   "attachments": {},
   "cell_type": "markdown",
   "metadata": {},
   "source": [
    "Same file but without the additional columns that are not required until further steps will also be generated for convenience of use in experimentation as the dataset is still big."
   ]
  },
  {
   "cell_type": "code",
   "execution_count": 36,
   "metadata": {},
   "outputs": [
    {
     "data": {
      "text/html": [
       "<div>\n",
       "<style scoped>\n",
       "    .dataframe tbody tr th:only-of-type {\n",
       "        vertical-align: middle;\n",
       "    }\n",
       "\n",
       "    .dataframe tbody tr th {\n",
       "        vertical-align: top;\n",
       "    }\n",
       "\n",
       "    .dataframe thead th {\n",
       "        text-align: right;\n",
       "    }\n",
       "</style>\n",
       "<table border=\"1\" class=\"dataframe\">\n",
       "  <thead>\n",
       "    <tr style=\"text-align: right;\">\n",
       "      <th></th>\n",
       "      <th>userId</th>\n",
       "      <th>movieId</th>\n",
       "      <th>rating</th>\n",
       "      <th>timestamp</th>\n",
       "    </tr>\n",
       "  </thead>\n",
       "  <tbody>\n",
       "    <tr>\n",
       "      <th>0</th>\n",
       "      <td>0</td>\n",
       "      <td>2</td>\n",
       "      <td>3.0</td>\n",
       "      <td>1011208463</td>\n",
       "    </tr>\n",
       "    <tr>\n",
       "      <th>1</th>\n",
       "      <td>0</td>\n",
       "      <td>6</td>\n",
       "      <td>3.0</td>\n",
       "      <td>1011208220</td>\n",
       "    </tr>\n",
       "    <tr>\n",
       "      <th>2</th>\n",
       "      <td>0</td>\n",
       "      <td>10</td>\n",
       "      <td>4.0</td>\n",
       "      <td>1011207889</td>\n",
       "    </tr>\n",
       "    <tr>\n",
       "      <th>3</th>\n",
       "      <td>0</td>\n",
       "      <td>14</td>\n",
       "      <td>2.0</td>\n",
       "      <td>1011208732</td>\n",
       "    </tr>\n",
       "    <tr>\n",
       "      <th>4</th>\n",
       "      <td>0</td>\n",
       "      <td>15</td>\n",
       "      <td>3.0</td>\n",
       "      <td>1011205378</td>\n",
       "    </tr>\n",
       "    <tr>\n",
       "      <th>...</th>\n",
       "      <td>...</td>\n",
       "      <td>...</td>\n",
       "      <td>...</td>\n",
       "      <td>...</td>\n",
       "    </tr>\n",
       "    <tr>\n",
       "      <th>11155334</th>\n",
       "      <td>25547</td>\n",
       "      <td>4181</td>\n",
       "      <td>4.5</td>\n",
       "      <td>1260209720</td>\n",
       "    </tr>\n",
       "    <tr>\n",
       "      <th>11155335</th>\n",
       "      <td>25547</td>\n",
       "      <td>4188</td>\n",
       "      <td>4.5</td>\n",
       "      <td>1258126920</td>\n",
       "    </tr>\n",
       "    <tr>\n",
       "      <th>11155336</th>\n",
       "      <td>25547</td>\n",
       "      <td>4195</td>\n",
       "      <td>4.5</td>\n",
       "      <td>1259865108</td>\n",
       "    </tr>\n",
       "    <tr>\n",
       "      <th>11155337</th>\n",
       "      <td>25547</td>\n",
       "      <td>4198</td>\n",
       "      <td>3.0</td>\n",
       "      <td>1260209457</td>\n",
       "    </tr>\n",
       "    <tr>\n",
       "      <th>11155338</th>\n",
       "      <td>25547</td>\n",
       "      <td>4204</td>\n",
       "      <td>5.0</td>\n",
       "      <td>1258126944</td>\n",
       "    </tr>\n",
       "  </tbody>\n",
       "</table>\n",
       "<p>11155339 rows × 4 columns</p>\n",
       "</div>"
      ],
      "text/plain": [
       "          userId  movieId  rating   timestamp\n",
       "0              0        2     3.0  1011208463\n",
       "1              0        6     3.0  1011208220\n",
       "2              0       10     4.0  1011207889\n",
       "3              0       14     2.0  1011208732\n",
       "4              0       15     3.0  1011205378\n",
       "...          ...      ...     ...         ...\n",
       "11155334   25547     4181     4.5  1260209720\n",
       "11155335   25547     4188     4.5  1258126920\n",
       "11155336   25547     4195     4.5  1259865108\n",
       "11155337   25547     4198     3.0  1260209457\n",
       "11155338   25547     4204     5.0  1258126944\n",
       "\n",
       "[11155339 rows x 4 columns]"
      ]
     },
     "execution_count": 36,
     "metadata": {},
     "output_type": "execute_result"
    }
   ],
   "source": [
    "without_movie_info_df = master_df.drop([\"title\", \"genres\", \"imdbId\", \"movielensId\"], axis=1)\n",
    "without_movie_info_df.to_csv(\"data/master_data.csv\", index=False)\n",
    "without_movie_info_df"
   ]
  },
  {
   "attachments": {},
   "cell_type": "markdown",
   "metadata": {},
   "source": [
    "Validation that the final dataset is complete and does not have any missing values"
   ]
  },
  {
   "cell_type": "code",
   "execution_count": 37,
   "metadata": {},
   "outputs": [
    {
     "data": {
      "text/plain": [
       "userId         0\n",
       "movieId        0\n",
       "rating         0\n",
       "timestamp      0\n",
       "title          0\n",
       "genres         0\n",
       "imdbId         0\n",
       "movielensId    0\n",
       "dtype: int64"
      ]
     },
     "execution_count": 37,
     "metadata": {},
     "output_type": "execute_result"
    }
   ],
   "source": [
    "master_df.isna().sum()"
   ]
  },
  {
   "cell_type": "code",
   "execution_count": null,
   "metadata": {},
   "outputs": [],
   "source": []
  },
  {
   "cell_type": "code",
   "execution_count": null,
   "metadata": {},
   "outputs": [],
   "source": []
  }
 ],
 "metadata": {
  "kernelspec": {
   "display_name": "recommend",
   "language": "python",
   "name": "python3"
  },
  "language_info": {
   "codemirror_mode": {
    "name": "ipython",
    "version": 3
   },
   "file_extension": ".py",
   "mimetype": "text/x-python",
   "name": "python",
   "nbconvert_exporter": "python",
   "pygments_lexer": "ipython3",
   "version": "3.6.13"
  },
  "orig_nbformat": 4
 },
 "nbformat": 4,
 "nbformat_minor": 2
}
