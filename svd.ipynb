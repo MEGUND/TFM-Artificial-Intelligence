{
 "cells": [
  {
   "attachments": {},
   "cell_type": "markdown",
   "metadata": {},
   "source": [
    "# SVD\n",
    "\n",
    "This notebook takes the master data that was prepared in the \"data_preprocessing\" notebook, creates a test holdout set from the 10% of the data that the same split will be used for future experimentation for consistency.\n",
    "The training set is fitted into the SVD Model by using the Surprise package, which is a Python Scikit. Aim of this notebook is not to use the SVD Model, but just to obtain the RMSE metric from it for comparison."
   ]
  },
  {
   "cell_type": "code",
   "execution_count": 1,
   "metadata": {},
   "outputs": [],
   "source": [
    "import numpy as np\n",
    "import pandas as pd\n",
    "import matplotlib.pyplot as plt\n",
    "\n",
    "from sklearn.model_selection import train_test_split\n",
    "  \n",
    "from surprise import Reader, Dataset\n",
    "from surprise import SVD, KNNBasic\n",
    "from surprise import accuracy\n",
    "\n",
    "import joblib"
   ]
  },
  {
   "cell_type": "code",
   "execution_count": 2,
   "metadata": {},
   "outputs": [
    {
     "data": {
      "text/html": [
       "<div>\n",
       "<style scoped>\n",
       "    .dataframe tbody tr th:only-of-type {\n",
       "        vertical-align: middle;\n",
       "    }\n",
       "\n",
       "    .dataframe tbody tr th {\n",
       "        vertical-align: top;\n",
       "    }\n",
       "\n",
       "    .dataframe thead th {\n",
       "        text-align: right;\n",
       "    }\n",
       "</style>\n",
       "<table border=\"1\" class=\"dataframe\">\n",
       "  <thead>\n",
       "    <tr style=\"text-align: right;\">\n",
       "      <th></th>\n",
       "      <th>userId</th>\n",
       "      <th>movieId</th>\n",
       "      <th>rating</th>\n",
       "    </tr>\n",
       "  </thead>\n",
       "  <tbody>\n",
       "    <tr>\n",
       "      <th>0</th>\n",
       "      <td>0</td>\n",
       "      <td>2</td>\n",
       "      <td>3.0</td>\n",
       "    </tr>\n",
       "    <tr>\n",
       "      <th>1</th>\n",
       "      <td>0</td>\n",
       "      <td>6</td>\n",
       "      <td>3.0</td>\n",
       "    </tr>\n",
       "    <tr>\n",
       "      <th>2</th>\n",
       "      <td>0</td>\n",
       "      <td>10</td>\n",
       "      <td>4.0</td>\n",
       "    </tr>\n",
       "    <tr>\n",
       "      <th>3</th>\n",
       "      <td>0</td>\n",
       "      <td>14</td>\n",
       "      <td>2.0</td>\n",
       "    </tr>\n",
       "    <tr>\n",
       "      <th>4</th>\n",
       "      <td>0</td>\n",
       "      <td>15</td>\n",
       "      <td>3.0</td>\n",
       "    </tr>\n",
       "    <tr>\n",
       "      <th>...</th>\n",
       "      <td>...</td>\n",
       "      <td>...</td>\n",
       "      <td>...</td>\n",
       "    </tr>\n",
       "    <tr>\n",
       "      <th>11155334</th>\n",
       "      <td>25547</td>\n",
       "      <td>4181</td>\n",
       "      <td>4.5</td>\n",
       "    </tr>\n",
       "    <tr>\n",
       "      <th>11155335</th>\n",
       "      <td>25547</td>\n",
       "      <td>4188</td>\n",
       "      <td>4.5</td>\n",
       "    </tr>\n",
       "    <tr>\n",
       "      <th>11155336</th>\n",
       "      <td>25547</td>\n",
       "      <td>4195</td>\n",
       "      <td>4.5</td>\n",
       "    </tr>\n",
       "    <tr>\n",
       "      <th>11155337</th>\n",
       "      <td>25547</td>\n",
       "      <td>4198</td>\n",
       "      <td>3.0</td>\n",
       "    </tr>\n",
       "    <tr>\n",
       "      <th>11155338</th>\n",
       "      <td>25547</td>\n",
       "      <td>4204</td>\n",
       "      <td>5.0</td>\n",
       "    </tr>\n",
       "  </tbody>\n",
       "</table>\n",
       "<p>11155339 rows × 3 columns</p>\n",
       "</div>"
      ],
      "text/plain": [
       "          userId  movieId  rating\n",
       "0              0        2     3.0\n",
       "1              0        6     3.0\n",
       "2              0       10     4.0\n",
       "3              0       14     2.0\n",
       "4              0       15     3.0\n",
       "...          ...      ...     ...\n",
       "11155334   25547     4181     4.5\n",
       "11155335   25547     4188     4.5\n",
       "11155336   25547     4195     4.5\n",
       "11155337   25547     4198     3.0\n",
       "11155338   25547     4204     5.0\n",
       "\n",
       "[11155339 rows x 3 columns]"
      ]
     },
     "execution_count": 2,
     "metadata": {},
     "output_type": "execute_result"
    }
   ],
   "source": [
    "#Do not load the \"timestamp\" column since it is not needed for building the recommender engine\n",
    "df = pd.read_csv('data/master_data.zip', compression=\"zip\")[[\"userId\", \"movieId\", \"rating\"]]\n",
    "df"
   ]
  },
  {
   "attachments": {},
   "cell_type": "markdown",
   "metadata": {},
   "source": [
    "## Train-test Split\n",
    "\n",
    "The train test split is done by only taking the 20% of the data as the test holdout set. For making sure the train and test data is consistent in all experiments, the following test holdout split will be the same for each experiment.\n",
    "\n",
    "It is an important detail that the split is done in a stratified way to ensure that the user rankings will be splitted as evenly as possible."
   ]
  },
  {
   "cell_type": "code",
   "execution_count": 7,
   "metadata": {},
   "outputs": [],
   "source": [
    "#This split will be standard for all experiments\n",
    "\n",
    "X = df.copy()\n",
    "y = df[\"userId\"]\n",
    "\n",
    "#There is no need for the target values since we are splitting the whole dataset\n",
    "#y is only given for stratifying\n",
    "\n",
    "X_train, X_test, _, _ = train_test_split(X, y, test_size = 0.20, stratify=y, random_state=42)"
   ]
  },
  {
   "attachments": {},
   "cell_type": "markdown",
   "metadata": {},
   "source": [
    "SurpriseLib requires the data to be loaded on its own format. A reader object is created for it by passing the minimum and maximum of the rankings in the data as the parameters of the constructor."
   ]
  },
  {
   "cell_type": "code",
   "execution_count": 8,
   "metadata": {},
   "outputs": [
    {
     "name": "stdout",
     "output_type": "stream",
     "text": [
      "Minimum rating: 0.5\n",
      "Maximum rating: 5.0\n"
     ]
    }
   ],
   "source": [
    "minimum_rating = min(df['rating'].values)\n",
    " \n",
    "maximum_rating = max(df['rating'].values)\n",
    " \n",
    "print(f\"Minimum rating: {minimum_rating}\")\n",
    "print(f\"Maximum rating: {maximum_rating}\")"
   ]
  },
  {
   "cell_type": "code",
   "execution_count": 9,
   "metadata": {},
   "outputs": [],
   "source": [
    "#Convert splitted data into SurpriseLib format\n",
    "\n",
    "reader = Reader(rating_scale=(minimum_rating,maximum_rating))\n",
    "\n",
    "train_data = Dataset.load_from_df(X_train, reader).build_full_trainset()\n",
    "test_data  = [tuple(x) for x in X_test.to_records(index=False)]"
   ]
  },
  {
   "attachments": {},
   "cell_type": "markdown",
   "metadata": {},
   "source": [
    "## Model Fit\n",
    "\n",
    "The algorithm to create the recommender engine in this notebook is SVD ( Singular Value Decomposition.). However, it should be noted that this SVD algorithm used in Surprise package is not exactly same as the standard SVD technique because it cannot directly work on matrix with empty data. It is to say that this an algorithm inspired by SVD."
   ]
  },
  {
   "cell_type": "code",
   "execution_count": 13,
   "metadata": {},
   "outputs": [
    {
     "data": {
      "text/plain": [
       "<surprise.prediction_algorithms.matrix_factorization.SVD at 0x25f926a4a20>"
      ]
     },
     "execution_count": 13,
     "metadata": {},
     "output_type": "execute_result"
    }
   ],
   "source": [
    "svd_model = SVD(n_factors=50, lr_all=0.01, reg_all = 0.1)\n",
    "\n",
    "svd_model.fit(train_data)"
   ]
  },
  {
   "cell_type": "code",
   "execution_count": 10,
   "metadata": {},
   "outputs": [
    {
     "data": {
      "text/plain": [
       "['svd_model.pkl']"
      ]
     },
     "execution_count": 10,
     "metadata": {},
     "output_type": "execute_result"
    }
   ],
   "source": [
    "#joblib.dump(svd_model, \"svd_model.pkl\")"
   ]
  },
  {
   "attachments": {},
   "cell_type": "markdown",
   "metadata": {},
   "source": [
    "## Model Evaluate\n",
    "\n",
    "Here only the RMSE metric will be calculated to have an overview of the accuracy of the model to be compared with other recommendation systems."
   ]
  },
  {
   "cell_type": "code",
   "execution_count": 17,
   "metadata": {},
   "outputs": [
    {
     "name": "stdout",
     "output_type": "stream",
     "text": [
      "RMSE: 0.8003\n"
     ]
    },
    {
     "data": {
      "text/plain": [
       "0.8003138226574599"
      ]
     },
     "execution_count": 17,
     "metadata": {},
     "output_type": "execute_result"
    }
   ],
   "source": [
    "predictions = svd_model.test(test_data)\n",
    "accuracy.rmse(predictions, verbose=True)"
   ]
  },
  {
   "cell_type": "code",
   "execution_count": null,
   "metadata": {},
   "outputs": [],
   "source": []
  }
 ],
 "metadata": {
  "kernelspec": {
   "display_name": "recommend",
   "language": "python",
   "name": "python3"
  },
  "language_info": {
   "codemirror_mode": {
    "name": "ipython",
    "version": 3
   },
   "file_extension": ".py",
   "mimetype": "text/x-python",
   "name": "python",
   "nbconvert_exporter": "python",
   "pygments_lexer": "ipython3",
   "version": "3.6.13"
  },
  "orig_nbformat": 4
 },
 "nbformat": 4,
 "nbformat_minor": 2
}
